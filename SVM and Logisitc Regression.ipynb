{
 "cells": [
  {
   "cell_type": "code",
   "execution_count": 17,
   "metadata": {},
   "outputs": [],
   "source": [
    "from torchvision import datasets\n",
    "from torchvision.transforms import ToTensor\n",
    "from sklearn.decomposition import PCA\n",
    "from sklearn.preprocessing import StandardScaler\n",
    "from sklearn import svm\n",
    "import numpy as np\n",
    "from sklearn.discriminant_analysis import LinearDiscriminantAnalysis\n",
    "import torch\n",
    "from tqdm import tqdm\n",
    "import matplotlib.pyplot as plt"
   ]
  },
  {
   "cell_type": "markdown",
   "metadata": {},
   "source": [
    "# Data Processing"
   ]
  },
  {
   "cell_type": "code",
   "execution_count": 2,
   "metadata": {},
   "outputs": [
    {
     "name": "stdout",
     "output_type": "stream",
     "text": [
      "Downloading http://yann.lecun.com/exdb/mnist/train-images-idx3-ubyte.gz\n",
      "Downloading http://yann.lecun.com/exdb/mnist/train-images-idx3-ubyte.gz to data/MNIST/raw/train-images-idx3-ubyte.gz\n"
     ]
    },
    {
     "data": {
      "application/vnd.jupyter.widget-view+json": {
       "model_id": "1a2dd0b72a694ec8b296c87c6ddde2bf",
       "version_major": 2,
       "version_minor": 0
      },
      "text/plain": [
       "  0%|          | 0/9912422 [00:00<?, ?it/s]"
      ]
     },
     "metadata": {},
     "output_type": "display_data"
    },
    {
     "name": "stdout",
     "output_type": "stream",
     "text": [
      "Extracting data/MNIST/raw/train-images-idx3-ubyte.gz to data/MNIST/raw\n",
      "\n",
      "Downloading http://yann.lecun.com/exdb/mnist/train-labels-idx1-ubyte.gz\n",
      "Downloading http://yann.lecun.com/exdb/mnist/train-labels-idx1-ubyte.gz to data/MNIST/raw/train-labels-idx1-ubyte.gz\n"
     ]
    },
    {
     "data": {
      "application/vnd.jupyter.widget-view+json": {
       "model_id": "370a955eb1e2434aac1ec80250582e09",
       "version_major": 2,
       "version_minor": 0
      },
      "text/plain": [
       "  0%|          | 0/28881 [00:00<?, ?it/s]"
      ]
     },
     "metadata": {},
     "output_type": "display_data"
    },
    {
     "name": "stdout",
     "output_type": "stream",
     "text": [
      "Extracting data/MNIST/raw/train-labels-idx1-ubyte.gz to data/MNIST/raw\n",
      "\n",
      "Downloading http://yann.lecun.com/exdb/mnist/t10k-images-idx3-ubyte.gz\n",
      "Downloading http://yann.lecun.com/exdb/mnist/t10k-images-idx3-ubyte.gz to data/MNIST/raw/t10k-images-idx3-ubyte.gz\n"
     ]
    },
    {
     "data": {
      "application/vnd.jupyter.widget-view+json": {
       "model_id": "09d1db3ea9684062bfcac13067825407",
       "version_major": 2,
       "version_minor": 0
      },
      "text/plain": [
       "  0%|          | 0/1648877 [00:00<?, ?it/s]"
      ]
     },
     "metadata": {},
     "output_type": "display_data"
    },
    {
     "name": "stdout",
     "output_type": "stream",
     "text": [
      "Extracting data/MNIST/raw/t10k-images-idx3-ubyte.gz to data/MNIST/raw\n",
      "\n",
      "Downloading http://yann.lecun.com/exdb/mnist/t10k-labels-idx1-ubyte.gz\n",
      "Downloading http://yann.lecun.com/exdb/mnist/t10k-labels-idx1-ubyte.gz to data/MNIST/raw/t10k-labels-idx1-ubyte.gz\n"
     ]
    },
    {
     "data": {
      "application/vnd.jupyter.widget-view+json": {
       "model_id": "6ca057875cc44d2cb77a014c686cf8d3",
       "version_major": 2,
       "version_minor": 0
      },
      "text/plain": [
       "  0%|          | 0/4542 [00:00<?, ?it/s]"
      ]
     },
     "metadata": {},
     "output_type": "display_data"
    },
    {
     "name": "stdout",
     "output_type": "stream",
     "text": [
      "Extracting data/MNIST/raw/t10k-labels-idx1-ubyte.gz to data/MNIST/raw\n",
      "\n"
     ]
    }
   ],
   "source": [
    "train_data = datasets.MNIST(root='data', train=True, transform=ToTensor(), download = True)\n",
    "test_data = datasets.MNIST(root = 'data', train=False, transform=ToTensor())\n",
    "train_x, train_y = train_data.data, train_data.targets\n",
    "train_x = train_x.reshape(train_x.shape[0],-1)\n",
    "test_x, test_y = test_data.data, test_data.targets\n",
    "test_x = test_x.reshape(test_x.shape[0],-1)\n",
    "test_y_np = test_y.cpu().detach().numpy()\n"
   ]
  },
  {
   "cell_type": "markdown",
   "metadata": {},
   "source": [
    "Noramlize data"
   ]
  },
  {
   "cell_type": "code",
   "execution_count": 3,
   "metadata": {},
   "outputs": [],
   "source": [
    "sc = StandardScaler()\n",
    "train_x_norm = sc.fit_transform(train_x)\n",
    "test_x_norm = sc.transform(test_x)"
   ]
  },
  {
   "cell_type": "markdown",
   "metadata": {},
   "source": [
    "PCA"
   ]
  },
  {
   "cell_type": "code",
   "execution_count": 4,
   "metadata": {},
   "outputs": [],
   "source": [
    "pca = PCA(n_components=10)\n",
    "train_x_pca = pca.fit_transform(train_x_norm)\n",
    "test_x_pca = pca.transform(test_x_norm)"
   ]
  },
  {
   "cell_type": "markdown",
   "metadata": {},
   "source": [
    "LDA"
   ]
  },
  {
   "cell_type": "code",
   "execution_count": 5,
   "metadata": {},
   "outputs": [],
   "source": [
    "lda = LinearDiscriminantAnalysis(n_components=8)\n",
    "train_x_lda = lda.fit_transform(train_x_norm, train_y)\n",
    "test_x_lda = lda.transform(test_x_norm)"
   ]
  },
  {
   "cell_type": "markdown",
   "metadata": {},
   "source": [
    "# SVM"
   ]
  },
  {
   "cell_type": "markdown",
   "metadata": {},
   "source": [
    "### PCA SVM"
   ]
  },
  {
   "cell_type": "markdown",
   "metadata": {},
   "source": [
    "#### Linear SVM"
   ]
  },
  {
   "cell_type": "code",
   "execution_count": 6,
   "metadata": {},
   "outputs": [
    {
     "name": "stdout",
     "output_type": "stream",
     "text": [
      "Test Accuracy for Linear Kernel : 84.49 %\n"
     ]
    }
   ],
   "source": [
    "svc_linear = svm.SVC(kernel = 'linear', C = 5).fit(train_x_pca, train_y)\n",
    "predict_linear = svc_linear.predict(test_x_pca)\n",
    "classification_linear = predict_linear - test_y_np\n",
    "error_linear = np.round((np.count_nonzero(classification_linear == 0)/len(test_y_np))*100,2)\n",
    "print('Test Accuracy for Linear Kernel : {} %'.format(error_linear))"
   ]
  },
  {
   "cell_type": "markdown",
   "metadata": {},
   "source": [
    "#### Polynomical SVM"
   ]
  },
  {
   "cell_type": "code",
   "execution_count": 9,
   "metadata": {},
   "outputs": [
    {
     "name": "stdout",
     "output_type": "stream",
     "text": [
      "Test Accuracy for Polynomial Kernel: 88.37 %\n"
     ]
    }
   ],
   "source": [
    "svc_poly = svm.SVC(kernel = 'poly', degree = 5).fit(train_x_pca, train_y)\n",
    "predict_poly = svc_poly.predict(test_x_pca)\n",
    "classification_poly = predict_poly - test_y_np\n",
    "error_poly = np.round((np.count_nonzero(classification_poly == 0)/len(test_y_np))*100,2)\n",
    "print('Test Accuracy for Polynomial Kernel: {} %'.format(error_poly))"
   ]
  },
  {
   "cell_type": "markdown",
   "metadata": {},
   "source": [
    "#### RBF SVM"
   ]
  },
  {
   "cell_type": "code",
   "execution_count": 10,
   "metadata": {},
   "outputs": [
    {
     "name": "stdout",
     "output_type": "stream",
     "text": [
      "Test Accuracy for RBF kernel: 87.66 %\n"
     ]
    }
   ],
   "source": [
    "svc_RBF = svm.SVC(kernel = 'rbf', gamma = 0.1).fit(train_x_pca, train_y)\n",
    "predict_RBF = svc_RBF.predict(test_x_pca)\n",
    "classification_RBF = predict_RBF - test_y_np\n",
    "error_RBF = np.round((np.count_nonzero(classification_RBF == 0)/len(test_y_np))*100,2)\n",
    "print('Test Accuracy for RBF kernel: {} %'.format(error_RBF))"
   ]
  },
  {
   "cell_type": "markdown",
   "metadata": {},
   "source": [
    "### LDA SVM"
   ]
  },
  {
   "cell_type": "markdown",
   "metadata": {},
   "source": [
    "#### Linear SVM"
   ]
  },
  {
   "cell_type": "code",
   "execution_count": 25,
   "metadata": {},
   "outputs": [
    {
     "name": "stdout",
     "output_type": "stream",
     "text": [
      "Test Error for Linear Kernel : 10.86 %\n"
     ]
    }
   ],
   "source": [
    "svc_linear = svm.SVC(kernel = 'linear', C = 30).fit(train_x_lda, train_y)\n",
    "predict_linear = svc_linear.predict(test_x_lda)\n",
    "classification_linear = predict_linear - test_y_np\n",
    "error_linear = np.round((np.count_nonzero(classification_linear == 0)/len(test_y_np))*100,2)\n",
    "print('Test Accuracy for Linear Kernel : {} %'.format(error_linear))"
   ]
  },
  {
   "cell_type": "markdown",
   "metadata": {},
   "source": [
    "#### Polynomical SVM"
   ]
  },
  {
   "cell_type": "code",
   "execution_count": 23,
   "metadata": {},
   "outputs": [
    {
     "name": "stdout",
     "output_type": "stream",
     "text": [
      "Test Error for Polynomial Kernel: 13.36 %\n"
     ]
    }
   ],
   "source": [
    "svc_poly = svm.SVC(kernel = 'poly', degree = 4).fit(train_x_lda, train_y)\n",
    "predict_poly = svc_poly.predict(test_x_lda)\n",
    "classification_poly = predict_poly - test_y_np\n",
    "error_poly = np.round((np.count_nonzero(classification_poly == 0)/len(test_y_np))*100,2)\n",
    "print('Test Accuracy for Polynomial Kernel: {} %'.format(error_poly))"
   ]
  },
  {
   "cell_type": "markdown",
   "metadata": {},
   "source": [
    "#### RBF SVM"
   ]
  },
  {
   "cell_type": "code",
   "execution_count": 24,
   "metadata": {},
   "outputs": [
    {
     "name": "stdout",
     "output_type": "stream",
     "text": [
      "Test Error for RBF kernel: 8.24 %\n"
     ]
    }
   ],
   "source": [
    "svc_RBF = svm.SVC(kernel = 'rbf', gamma = 0.1).fit(train_x_lda, train_y)\n",
    "predict_RBF = svc_RBF.predict(test_x_lda)\n",
    "classification_RBF = predict_RBF - test_y_np\n",
    "error_RBF = np.round((np.count_nonzero(classification_RBF == 0)/len(test_y_np))*100,2)\n",
    "print('Test Accuracy for RBF kernel: {} %'.format(error_RBF))"
   ]
  },
  {
   "cell_type": "markdown",
   "metadata": {},
   "source": [
    "# Logistic Regression"
   ]
  },
  {
   "cell_type": "markdown",
   "metadata": {},
   "source": [
    "## Logistic Regression for PCA"
   ]
  },
  {
   "cell_type": "markdown",
   "metadata": {},
   "source": [
    "#### Data preparation"
   ]
  },
  {
   "cell_type": "code",
   "execution_count": 36,
   "metadata": {},
   "outputs": [],
   "source": [
    "n_class = 10\n",
    "n_feature = train_x_pca.shape[1]\n",
    "n_data = 60000\n",
    "learning_rate = 10e-6\n",
    "n_epoches = 200\n",
    "weight = torch.zeros(n_feature+1, n_class).float()\n",
    "train_y_matrix = torch.zeros(n_data, n_class).float()\n",
    "for i in range(len(train_y)):\n",
    "    train_y_matrix[i,train_y[i]] = 1\n",
    "    \n",
    "train_x_pca_app = torch.hstack((torch.from_numpy(train_x_pca),torch.ones(train_x_pca.shape[0],1)))\n",
    "train_x_pca_transpose = torch.t(train_x_pca_app).float()"
   ]
  },
  {
   "cell_type": "markdown",
   "metadata": {},
   "source": [
    "#### Training"
   ]
  },
  {
   "cell_type": "code",
   "execution_count": 37,
   "metadata": {},
   "outputs": [
    {
     "name": "stderr",
     "output_type": "stream",
     "text": [
      "100%|██████████| 200/200 [00:02<00:00, 90.55it/s]\n"
     ]
    }
   ],
   "source": [
    "train_loss = []\n",
    "\n",
    "for epoch in tqdm(range(n_epoches)): \n",
    "    train_predict_y = torch.exp(torch.matmul(train_x_pca_app.float(),weight)).float()\n",
    "    train_predict_y = train_predict_y/torch.sum(train_predict_y,dim=1,keepdim=True).float()\n",
    "    pred_diff = train_predict_y - train_y_matrix\n",
    "    loss = -torch.sum(train_y_matrix * torch.log(train_predict_y))\n",
    "    train_loss.append(loss.item())\n",
    "    weight = weight - learning_rate * train_x_pca_transpose@pred_diff"
   ]
  },
  {
   "cell_type": "code",
   "execution_count": 38,
   "metadata": {},
   "outputs": [
    {
     "data": {
      "image/png": "[encoded data removed]",
      "text/plain": [
       "<Figure size 432x288 with 1 Axes>"
      ]
     },
     "metadata": {
      "needs_background": "light"
     },
     "output_type": "display_data"
    }
   ],
   "source": [
    "plt.plot(train_loss)\n",
    "plt.xlabel('Epoch')\n",
    "plt.ylabel('Loss')\n",
    "plt.title('Loss vs Epoch for logistic regression on PCA')\n",
    "plt.show()"
   ]
  },
  {
   "cell_type": "markdown",
   "metadata": {},
   "source": [
    "#### Testing"
   ]
  },
  {
   "cell_type": "code",
   "execution_count": 39,
   "metadata": {},
   "outputs": [
    {
     "name": "stdout",
     "output_type": "stream",
     "text": [
      "Test Accuracy for logistic regression on PCA : 80.34 %\n"
     ]
    }
   ],
   "source": [
    "test_x_pca_app = torch.hstack((torch.from_numpy(test_x_pca),torch.ones(test_x_pca.shape[0],1)))\n",
    "test_predict_y = torch.exp(torch.matmul(test_x_pca_app.float(),weight)).float()\n",
    "test_predict_y = test_predict_y.argmax(1)\n",
    "test_predict_y_np = test_predict_y.cpu().detach().numpy()\n",
    "classification_regre = test_predict_y_np - test_y_np\n",
    "error = np.round((np.count_nonzero(classification_regre==0)/len(test_y_np))*100,2)\n",
    "print('Test Accuracy for logistic regression on PCA : {} %'.format(error))"
   ]
  },
  {
   "cell_type": "markdown",
   "metadata": {},
   "source": [
    "### Logistic Regression for LDA"
   ]
  },
  {
   "cell_type": "markdown",
   "metadata": {},
   "source": [
    "#### Data Processing"
   ]
  },
  {
   "cell_type": "code",
   "execution_count": 46,
   "metadata": {},
   "outputs": [],
   "source": [
    "n_class = 10\n",
    "n_feature = train_x_lda.shape[1]\n",
    "n_data = 60000\n",
    "learning_rate = 10e-6\n",
    "n_epoches = 500\n",
    "weight = torch.zeros(n_feature+1, n_class).float()\n",
    "train_y_matrix = torch.zeros(n_data, n_class).float()\n",
    "for i in range(len(train_y)):\n",
    "    train_y_matrix[i,train_y[i]] = 1\n",
    "    \n",
    "train_x_lda_app = torch.hstack((torch.from_numpy(train_x_lda),torch.ones(train_x_lda.shape[0],1)))\n",
    "train_x_lda_transpose = torch.t(train_x_lda_app).float()"
   ]
  },
  {
   "cell_type": "markdown",
   "metadata": {},
   "source": [
    "#### Training"
   ]
  },
  {
   "cell_type": "code",
   "execution_count": 47,
   "metadata": {},
   "outputs": [
    {
     "name": "stderr",
     "output_type": "stream",
     "text": [
      "100%|██████████| 500/500 [00:05<00:00, 99.32it/s] \n"
     ]
    }
   ],
   "source": [
    "train_loss = []\n",
    "\n",
    "for epoch in tqdm(range(n_epoches)): \n",
    "    train_predict_y = torch.exp(torch.matmul(train_x_lda_app.float(),weight)).float()\n",
    "    train_predict_y = train_predict_y/torch.sum(train_predict_y,dim=1,keepdim=True).float()\n",
    "    pred_diff = train_predict_y - train_y_matrix\n",
    "    loss = -torch.sum(train_y_matrix * torch.log(train_predict_y))\n",
    "    train_loss.append(loss.item())\n",
    "    weight = weight - learning_rate * train_x_lda_transpose@pred_diff"
   ]
  },
  {
   "cell_type": "code",
   "execution_count": 49,
   "metadata": {},
   "outputs": [
    {
     "data": {
      "image/png": "[encoded data removed]",
      "text/plain": [
       "<Figure size 432x288 with 1 Axes>"
      ]
     },
     "metadata": {
      "needs_background": "light"
     },
     "output_type": "display_data"
    }
   ],
   "source": [
    "plt.plot(train_loss)\n",
    "plt.xlabel('Epoch')\n",
    "plt.ylabel('Loss')\n",
    "plt.title('Loss vs Epoch for logistic regression on LDA')\n",
    "plt.show()"
   ]
  },
  {
   "cell_type": "markdown",
   "metadata": {},
   "source": []
  },
  {
   "cell_type": "markdown",
   "metadata": {},
   "source": [
    "#### Testing"
   ]
  },
  {
   "cell_type": "code",
   "execution_count": 50,
   "metadata": {},
   "outputs": [
    {
     "name": "stdout",
     "output_type": "stream",
     "text": [
      "Test Accuracy for logistic regression on LDA : 88.33 %\n"
     ]
    }
   ],
   "source": [
    "test_x_lda_app = torch.hstack((torch.from_numpy(test_x_lda),torch.ones(test_x_lda.shape[0],1)))\n",
    "test_predict_y = torch.exp(torch.matmul(test_x_lda_app.float(),weight)).float()\n",
    "test_predict_y = test_predict_y.argmax(1)\n",
    "test_predict_y_np = test_predict_y.cpu().detach().numpy()\n",
    "classification_regre = test_predict_y_np - test_y_np\n",
    "error = np.round((np.count_nonzero(classification_regre==0)/len(test_y_np))*100,2)\n",
    "print('Test Accuracy for logistic regression on LDA : {} %'.format(error))"
   ]
  }
 ],
 "metadata": {
  "interpreter": {
   "hash": "767d51c1340bd893661ea55ea3124f6de3c7a262a8b4abca0554b478b1e2ff90"
  },
  "kernelspec": {
   "display_name": "Python 3.8.13 64-bit",
   "language": "python",
   "name": "python3"
  },
  "language_info": {
   "codemirror_mode": {
    "name": "ipython",
    "version": 3
   },
   "file_extension": ".py",
   "mimetype": "text/x-python",
   "name": "python",
   "nbconvert_exporter": "python",
   "pygments_lexer": "ipython3",
   "version": "3.7.13"
  },
  "orig_nbformat": 4
 },
 "nbformat": 4,
 "nbformat_minor": 2
}
